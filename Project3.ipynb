{
 "cells": [
  {
   "cell_type": "code",
   "execution_count": null,
   "id": "b46053a0",
   "metadata": {},
   "outputs": [],
   "source": [
    "import os"
   ]
  },
  {
   "cell_type": "code",
   "execution_count": null,
   "id": "c86a3544",
   "metadata": {},
   "outputs": [],
   "source": [
    "import mysql.connector"
   ]
  },
  {
   "cell_type": "code",
   "execution_count": null,
   "id": "5b74c59b",
   "metadata": {},
   "outputs": [],
   "source": [
    "import pandas as pd"
   ]
  },
  {
   "cell_type": "code",
   "execution_count": null,
   "id": "4e60fad7",
   "metadata": {},
   "outputs": [],
   "source": [
    "connection = mysql.connector.connect(host = 'localhost',user = 'root', password = 'cUny$p$_7', db ='chinook' )"
   ]
  },
  {
   "cell_type": "code",
   "execution_count": null,
   "id": "1c95105d",
   "metadata": {},
   "outputs": [],
   "source": [
    "connection"
   ]
  },
  {
   "cell_type": "code",
   "execution_count": null,
   "id": "d3627de8",
   "metadata": {},
   "outputs": [],
   "source": [
    "<mysql.connector.connection_cext.CMySQLConnection at 0x2b1899ce4e0>"
   ]
  },
  {
   "cell_type": "code",
   "execution_count": null,
   "id": "962d345c",
   "metadata": {},
   "outputs": [],
   "source": [
    "query = '''SELECT LastName, FirstName, track.Name, album.Title FROM customer \n",
    "INNERE JOIN invoice USING (CustomerID)\n",
    "INNER JOIN invoiceline\n",
    "USING (InvoiceID)\n",
    "INNER JOIN track\n",
    "USING (TrackID)\n",
    "INNER JOIN album\n",
    "USING (AlbumID)\n",
    "ORDER BY LastName, FirstName'''"
   ]
  },
  {
   "cell_type": "code",
   "execution_count": null,
   "id": "7fb1dfc3",
   "metadata": {},
   "outputs": [],
   "source": [
    "chinook = pd.read_sql_query(query, connection)"
   ]
  },
  {
   "cell_type": "code",
   "execution_count": null,
   "id": "bc7f7e54",
   "metadata": {},
   "outputs": [],
   "source": [
    "chinook.head()"
   ]
  },
  {
   "cell_type": "code",
   "execution_count": null,
   "id": "6e808afa",
   "metadata": {},
   "outputs": [],
   "source": [
    "\tLastName\tFirstName\tName\tTitle\n",
    "0\tAlmeida\tRoberto\tRight Next Door to Hell\tUse Your Illusion I\n",
    "1\tAlmeida\tRoberto\tIn The Evening\tIn Through The Out Door\n",
    "2\tAlmeida\tRoberto\tFool In The Rain\tIn Through The Out Door\n",
    "3\tAlmeida\tRoberto\tSaudade Dos Aviões Da Panair (Conversando No Bar)\tMinas\n",
    "4\tAlmeida\tRoberto\tCaso Você Queira Saber\tMinas"
   ]
  }
 ],
 "metadata": {
  "kernelspec": {
   "display_name": "Python 3 (ipykernel)",
   "language": "python",
   "name": "python3"
  },
  "language_info": {
   "codemirror_mode": {
    "name": "ipython",
    "version": 3
   },
   "file_extension": ".py",
   "mimetype": "text/x-python",
   "name": "python",
   "nbconvert_exporter": "python",
   "pygments_lexer": "ipython3",
   "version": "3.9.7"
  }
 },
 "nbformat": 4,
 "nbformat_minor": 5
}
